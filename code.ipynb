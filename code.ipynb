{
 "cells": [
  {
   "cell_type": "code",
   "execution_count": 2,
   "metadata": {},
   "outputs": [
    {
     "name": "stdout",
     "output_type": "stream",
     "text": [
      "Queue is now empty\n"
     ]
    }
   ],
   "source": [
    "import boto3\n",
    "import psycopg2\n",
    "import hashlib\n",
    "import json\n",
    "\n",
    "# Create a new SQS client\n",
    "sqs = boto3.client('sqs', endpoint_url='http://localhost:4566')\n",
    "queue_url = 'http://localhost:4566/000000000000/login-queue'\n",
    "\n",
    "# Connect to PostgreSQL\n",
    "conn = psycopg2.connect(\n",
    "    dbname='postgres',\n",
    "    user='postgres',\n",
    "    password='postgres',\n",
    "    host='localhost',\n",
    "    port='5432'\n",
    ")\n",
    "cur = conn.cursor()\n",
    "\n",
    "def mask_pii(data):\n",
    "    \"\"\"Helper function to mask PII fields.\"\"\"\n",
    "    for key in ['device_id', 'ip']:\n",
    "        if key in data:\n",
    "            # Mask PII data by hashing it\n",
    "            data[key] = hashlib.sha256(data[key].encode()).hexdigest()\n",
    "    if 'app_version' in data:\n",
    "        # Remove periods and convert to integer\n",
    "        data['app_version'] = int(data['app_version'].replace('.', ''))\n",
    "    return data\n",
    "\n",
    "while True:\n",
    "    # Receive message from SQS queue\n",
    "    response = sqs.receive_message(\n",
    "        QueueUrl=queue_url,\n",
    "        AttributeNames=['All'],\n",
    "        MaxNumberOfMessages=1,\n",
    "        MessageAttributeNames=['All'],\n",
    "        VisibilityTimeout=0,\n",
    "        WaitTimeSeconds=0\n",
    "    )\n",
    "\n",
    "    if 'Messages' in response:  # when the queue is exhausted, the response dict contains no 'Messages' key\n",
    "        for message in response['Messages']:  # 'Messages' is a list\n",
    "            # Process JSON message\n",
    "            message_body = json.loads(message['Body'])\n",
    "\n",
    "            # Mask PII data\n",
    "            masked_data = mask_pii(message_body)\n",
    "\n",
    "            # Insert the record into the Postgres database\n",
    "            cur.execute(\n",
    "                \"INSERT INTO user_logins (user_id, device_type, masked_ip, masked_device_id, locale, app_version, create_date) VALUES (%s, %s, %s, %s, %s, %s, %s)\",\n",
    "                (masked_data.get('user_id'), masked_data.get('device_type'), masked_data.get('masked_ip'), masked_data.get('masked_device_id'), masked_data.get('locale'), masked_data.get('app_version'), masked_data.get('create_date'))\n",
    "            )\n",
    "            conn.commit()\n",
    "\n",
    "            # Delete processed message from queue\n",
    "            sqs.delete_message(\n",
    "                QueueUrl=queue_url,\n",
    "                ReceiptHandle=message['ReceiptHandle']\n",
    "            )\n",
    "    else:\n",
    "        print('Queue is now empty')\n",
    "        break\n",
    "\n",
    "# Close database connection\n",
    "cur.close()\n",
    "conn.close()\n"
   ]
  }
 ],
 "metadata": {
  "kernelspec": {
   "display_name": "Python 3",
   "language": "python",
   "name": "python3"
  },
  "language_info": {
   "codemirror_mode": {
    "name": "ipython",
    "version": 3
   },
   "file_extension": ".py",
   "mimetype": "text/x-python",
   "name": "python",
   "nbconvert_exporter": "python",
   "pygments_lexer": "ipython3",
   "version": "3.10.8"
  },
  "orig_nbformat": 4
 },
 "nbformat": 4,
 "nbformat_minor": 2
}
